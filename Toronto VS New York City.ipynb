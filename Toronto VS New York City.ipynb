{
    "cells": [
        {
            "cell_type": "markdown",
            "metadata": {
                "collapsed": true
            },
            "source": "# Part 1"
        },
        {
            "cell_type": "markdown",
            "metadata": {},
            "source": "# A description of the problem and a discussion of the background. (15 marks)"
        },
        {
            "cell_type": "markdown",
            "metadata": {},
            "source": "2019-nCoV is one of the most hottest topic recently around the world. It came from the ongoing 2019\u201320 Wuhan coronavirus outbreak. A virus that was currently spreading across the world, majorly in China. The genomic sequencing has shown that the coronavirus is a positive-sense, single-stranded RNA coronavirus.It has been confirmed that it primarily spreded by Human-to-human transmission and spread through close contact, in particular from coughs and sneezes within a range of about 6 feet. It is possible that the virus can be infectious even during the incubation period, that might explain why the outbreak has so much population get infected in China. \nHow do we utilize the current data to get more information about what we need to make this outbreak become better?"
        },
        {
            "cell_type": "markdown",
            "metadata": {},
            "source": "# A description of the data and how it will be used to solve the problem. (15 marks)\n\nIn this report, sets of the data about corona virus will be analyzed. The dataset is called \u201cNovel Corona Virus 2019 Dataset\u201d and it was published on Kaggle. It has been collected by the John Hopkins University from various sources such as WHO, local CDC and some other medias. The dataset includes few features like below: 'Province/State', 'Country/Origin', \"Number of Confirmed Cases', 'Number of Cured','Latitude' and 'Longitude'.The report will be interested in 5 variables: date, number of infected, fatalities and cured in a given region, and 'Country/Origin'."
        },
        {
            "cell_type": "markdown",
            "metadata": {},
            "source": "# Part 2"
        },
        {
            "cell_type": "markdown",
            "metadata": {},
            "source": "A link to your Notebook on your Github repository, showing your code. (15 marks)\n\n\nhttps://github.com/YaranN/Coursera_Capstone/blob/master/Toronto%20VS%20New%20York%20City.ipynb"
        },
        {
            "cell_type": "markdown",
            "metadata": {},
            "source": "# Report"
        },
        {
            "cell_type": "markdown",
            "metadata": {},
            "source": "# Introduction \nThis report will illustrate how much populations in the cities are confirmed with '2019-nCOV' virus. As we all know, Hubei is the city that get infected the most. What cities are also in the risk of getting infection. Can we have a trend to predict when the virus can be controled based on current data?  \n\n# Data\nThe data will be used in this report is coming from Kaggle and the source link if from https://www.kaggle.com/rajacsp/toronto-apartment-price/.\n\nMethodology section which represents the main component of the report where you discuss and describe any exploratory data analysis that you did, any inferential statistical testing that you performed, if any, and what machine learnings were used and why.\n\nResults section where you discuss the results.\n\nDiscussion section where you discuss any observations you noted and any recommendations you can make based on the results.\n\nConclusion section where you conclude the report.\n"
        },
        {
            "cell_type": "markdown",
            "metadata": {},
            "source": "# Data"
        },
        {
            "cell_type": "code",
            "execution_count": null,
            "metadata": {},
            "outputs": [],
            "source": ""
        },
        {
            "cell_type": "code",
            "execution_count": null,
            "metadata": {},
            "outputs": [],
            "source": ""
        },
        {
            "cell_type": "code",
            "execution_count": null,
            "metadata": {},
            "outputs": [],
            "source": ""
        }
    ],
    "metadata": {
        "kernelspec": {
            "display_name": "Python 3.6",
            "language": "python",
            "name": "python3"
        },
        "language_info": {
            "codemirror_mode": {
                "name": "ipython",
                "version": 3
            },
            "file_extension": ".py",
            "mimetype": "text/x-python",
            "name": "python",
            "nbconvert_exporter": "python",
            "pygments_lexer": "ipython3",
            "version": "3.6.9"
        }
    },
    "nbformat": 4,
    "nbformat_minor": 1
}