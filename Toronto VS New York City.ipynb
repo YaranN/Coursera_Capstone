{
    "cells": [
        {
            "cell_type": "markdown",
            "metadata": {
                "collapsed": true
            },
            "source": "# Part 1"
        },
        {
            "cell_type": "markdown",
            "metadata": {},
            "source": "A description of the problem and a discussion of the background. (15 marks)\nBoth New York City and the city of Toronto are the financial siginificant city of their respective countries,\nBoth cities are very diverse and are the financial capitals of their respective countries. One interesting idea would be to compare the neighborhoods of the two cities and determine how similar or dissimilar they are. Is New York City more like Toronto or Paris or some other multicultural city? I will leave it to you to refine this idea."
        },
        {
            "cell_type": "markdown",
            "metadata": {},
            "source": "# A description of the data and how it will be used to solve the problem. (15 marks)\n\nIn this report, sets of location data from Toronto and New York City will be compared. The compared data can tell us what types of population are the major in the city and how much population from the world make the contribution to these cities. This report can also help business owners to make decision on which city is the better choice for their business loation, and business intention."
        },
        {
            "cell_type": "markdown",
            "metadata": {},
            "source": "# Part 2"
        },
        {
            "cell_type": "markdown",
            "metadata": {},
            "source": "A link to your Notebook on your Github repository, showing your code. (15 marks)\n\n\nhttps://github.com/YaranN/Coursera_Capstone/blob/master/Toronto%20VS%20New%20York%20City.ipynb"
        },
        {
            "cell_type": "markdown",
            "metadata": {},
            "source": "# Report"
        },
        {
            "cell_type": "markdown",
            "metadata": {},
            "source": "# Introduction \nTornot VS New York City analysis report will illustrate what types of people in these cities. The goal for business owners are businesses. To have a good business, it is always necessary to understand who will be attracted by this business. Location and population are the major and significant components to run any business. \n\n# Data\nThe data will be used in this report is coming from Kaggle and the source link if from https://www.kaggle.com/rajacsp/toronto-apartment-price/.\n\nMethodology section which represents the main component of the report where you discuss and describe any exploratory data analysis that you did, any inferential statistical testing that you performed, if any, and what machine learnings were used and why.\n\nResults section where you discuss the results.\n\nDiscussion section where you discuss any observations you noted and any recommendations you can make based on the results.\n\nConclusion section where you conclude the report.\n"
        },
        {
            "cell_type": "markdown",
            "metadata": {},
            "source": "# Data"
        }
    ],
    "metadata": {
        "kernelspec": {
            "display_name": "Python 3.6",
            "language": "python",
            "name": "python3"
        },
        "language_info": {
            "codemirror_mode": {
                "name": "ipython",
                "version": 3
            },
            "file_extension": ".py",
            "mimetype": "text/x-python",
            "name": "python",
            "nbconvert_exporter": "python",
            "pygments_lexer": "ipython3",
            "version": "3.6.9"
        }
    },
    "nbformat": 4,
    "nbformat_minor": 1
}