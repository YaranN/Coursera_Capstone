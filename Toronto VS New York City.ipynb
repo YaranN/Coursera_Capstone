{
    "cells": [
        {
            "cell_type": "markdown",
            "metadata": {
                "collapsed": true
            },
            "source": "# Part 1"
        },
        {
            "cell_type": "markdown",
            "metadata": {},
            "source": "A description of the problem and a discussion of the background. (15 marks)\nBoth New York City and the city of Toronto are the financial siginificant city of their respective countries,\nBoth cities are very diverse and are the financial capitals of their respective countries. One interesting idea would be to compare the neighborhoods of the two cities and determine how similar or dissimilar they are. Is New York City more like Toronto or Paris or some other multicultural city? I will leave it to you to refine this idea."
        },
        {
            "cell_type": "markdown",
            "metadata": {},
            "source": "A description of the data and how it will be used to solve the problem. (15 marks)"
        },
        {
            "cell_type": "markdown",
            "metadata": {},
            "source": "# Part 2"
        },
        {
            "cell_type": "markdown",
            "metadata": {},
            "source": "A link to your Notebook on your Github repository, showing your code. (15 marks)\n"
        },
        {
            "cell_type": "markdown",
            "metadata": {},
            "source": "# Report"
        },
        {
            "cell_type": "markdown",
            "metadata": {},
            "source": "Introduction where you discuss the business problem and who would be interested in this project.\n\nData where you describe the data that will be used to solve the problem and the source of the data.\n\nMethodology section which represents the main component of the report where you discuss and describe any exploratory data analysis that you did, any inferential statistical testing that you performed, if any, and what machine learnings were used and why.\n\nResults section where you discuss the results.\n\nDiscussion section where you discuss any observations you noted and any recommendations you can make based on the results.\n\nConclusion section where you conclude the report.\n"
        },
        {
            "cell_type": "markdown",
            "metadata": {},
            "source": "# Data"
        }
    ],
    "metadata": {
        "kernelspec": {
            "display_name": "Python 3.6",
            "language": "python",
            "name": "python3"
        },
        "language_info": {
            "codemirror_mode": {
                "name": "ipython",
                "version": 3
            },
            "file_extension": ".py",
            "mimetype": "text/x-python",
            "name": "python",
            "nbconvert_exporter": "python",
            "pygments_lexer": "ipython3",
            "version": "3.6.9"
        }
    },
    "nbformat": 4,
    "nbformat_minor": 1
}